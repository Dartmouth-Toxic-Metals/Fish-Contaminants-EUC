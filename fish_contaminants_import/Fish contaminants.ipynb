{
 "cells": [
  {
   "cell_type": "code",
   "execution_count": 6,
   "metadata": {},
   "outputs": [],
   "source": [
    "import pandas as pd\n",
    "import ipywidgets as widgets\n",
    "import models as m\n",
    "\n",
    "from sqlalchemy import func\n",
    "from sqlalchemy.orm import sessionmaker, relationship\n",
    "\n",
    "import config\n",
    "\n",
    "pd.options.display.max_rows = 999"
   ]
  },
  {
   "cell_type": "code",
   "execution_count": 7,
   "metadata": {},
   "outputs": [],
   "source": [
    "Session = sessionmaker(bind=m.engine)\n",
    "ses = Session()"
   ]
  },
  {
   "cell_type": "code",
   "execution_count": 8,
   "metadata": {},
   "outputs": [
    {
     "name": "stdout",
     "output_type": "stream",
     "text": [
      "0.03400\n",
      "100.00000\n"
     ]
    },
    {
     "data": {
      "application/vnd.jupyter.widget-view+json": {
       "model_id": "a0ddb002f2a543b7863a8bdafbe5e018",
       "version_major": 2,
       "version_minor": 0
      },
      "text/plain": [
       "Dropdown(description='Name', options=('BROWN BULLHEAD', 'WINTER FLOUNDER', 'ATLANTIC TOMCOD', 'WHITE CATFISH',…"
      ]
     },
     "metadata": {},
     "output_type": "display_data"
    },
    {
     "data": {
      "application/vnd.jupyter.widget-view+json": {
       "model_id": "5498e6e48b91458999d508601a80513f",
       "version_major": 2,
       "version_minor": 0
      },
      "text/plain": [
       "FloatRangeSlider(value=(0.034, 100.0), description='Acenthe range [ng/wet g]', min=0.034, readout_format='.1f'…"
      ]
     },
     "metadata": {},
     "output_type": "display_data"
    },
    {
     "data": {
      "application/vnd.jupyter.widget-view+json": {
       "model_id": "292f01be577943999921a4841ae44072",
       "version_major": 2,
       "version_minor": 0
      },
      "text/plain": [
       "Output()"
      ]
     },
     "metadata": {},
     "output_type": "display_data"
    }
   ],
   "source": [
    "output = widgets.Output()\n",
    "\n",
    "names = [result.common_name for result in ses.query(m.NCCA.common_name).distinct()]\n",
    "\n",
    "dropdown_names = widgets.Dropdown(options = names, description='Name')\n",
    "\n",
    "\n",
    "def dropdown_names_eventhandler(change):\n",
    "    output.clear_output()\n",
    "\n",
    "    query = ses.query(m.NCCA).filter(m.NCCA.common_name == dropdown_names.value).statement\n",
    "    df_out = pd.read_sql(query, m.engine)\n",
    "    df_out = df_out.sort_values(by='station')\n",
    "    \n",
    "    with output:\n",
    "        display(df_out)\n",
    "    \n",
    "dropdown_names.observe(dropdown_names_eventhandler, names='value')\n",
    "\n",
    "acenthe_min = ses.query(func.min(m.NCCA.ACENTHE)).scalar()\n",
    "acenthe_max = ses.query(func.max(m.NCCA.ACENTHE)).scalar()\n",
    "\n",
    "print(acenthe_min)\n",
    "print(acenthe_max)\n",
    "acenthe_range = widgets.FloatRangeSlider(\n",
    "    value=[0, 100.0],\n",
    "    min=acenthe_min,\n",
    "    max=acenthe_max,\n",
    "    step=0.1,\n",
    "    description='Acenthe range [ng/wet g]',\n",
    "    disabled=False,\n",
    "    continuous_update=True,\n",
    "    orientation='horizontal',\n",
    "    readout=True,\n",
    "    readout_format='.1f',\n",
    ")\n",
    "\n",
    "query = ses.query(m.NCCA).statement\n",
    "df = pd.read_sql(query, m.engine)\n",
    "\n",
    "def acenthe_range_eventhandler(change):\n",
    "    output.clear_output()\n",
    "    \n",
    "    df_out = df[(df['common_name']==dropdown_names.value) & (df['ACENTHE']>=acenthe_range.value[0]) & (df['ACENTHE']<=acenthe_range.value[1])]\n",
    "    df_out = df_out.sort_values(by='station')\n",
    "    \n",
    "    with output:\n",
    "        display(df_out)\n",
    "\n",
    "acenthe_range.observe(acenthe_range_eventhandler, names='value')\n",
    "        \n",
    "display(dropdown_names)\n",
    "display(acenthe_range)\n",
    "display(output)"
   ]
  },
  {
   "cell_type": "code",
   "execution_count": null,
   "metadata": {},
   "outputs": [],
   "source": []
  }
 ],
 "metadata": {
  "kernelspec": {
   "display_name": "Python 3",
   "language": "python",
   "name": "python3"
  },
  "language_info": {
   "codemirror_mode": {
    "name": "ipython",
    "version": 3
   },
   "file_extension": ".py",
   "mimetype": "text/x-python",
   "name": "python",
   "nbconvert_exporter": "python",
   "pygments_lexer": "ipython3",
   "version": "3.7.4"
  }
 },
 "nbformat": 4,
 "nbformat_minor": 2
}
